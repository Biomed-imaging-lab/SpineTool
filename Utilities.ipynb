{
 "cells": [
  {
   "cell_type": "markdown",
   "id": "6e39065f",
   "metadata": {},
   "source": [
    "# Utilities"
   ]
  },
  {
   "cell_type": "markdown",
   "id": "4b63ea9d",
   "metadata": {},
   "source": [
    "### Metrics calculation"
   ]
  },
  {
   "cell_type": "markdown",
   "id": "ca20fcd5",
   "metadata": {},
   "source": [
    "1. Set dataset path and scale applied to spines during visualization."
   ]
  },
  {
   "cell_type": "code",
   "execution_count": null,
   "id": "cc32a66a",
   "metadata": {},
   "outputs": [],
   "source": [
    "from notebook_widgets import SpineMeshDataset\n",
    "\n",
    "# set dataset path and scale applied to spines during visualization\n",
    "dataset_path = \"example dataset\"\n",
    "scale = (1, 1, 1)\n",
    "\n",
    "# load and scale spine mesh dataset\n",
    "spine_dataset = SpineMeshDataset().load(dataset_path)\n",
    "scaled_spine_dataset = SpineMeshDataset().load(dataset_path)\n",
    "scaled_spine_dataset.apply_scale(scale)"
   ]
  },
  {
   "cell_type": "markdown",
   "id": "452b3d2a",
   "metadata": {},
   "source": [
    "2. View Dendrite Skeleton."
   ]
  },
  {
   "cell_type": "code",
   "execution_count": null,
   "id": "935f839c",
   "metadata": {
    "scrolled": false
   },
   "outputs": [],
   "source": [
    "from notebook_widgets import view_skeleton_widget\n",
    "\n",
    "\n",
    "display(view_skeleton_widget(scaled_spine_dataset))"
   ]
  },
  {
   "cell_type": "markdown",
   "id": "8d2a11bd",
   "metadata": {},
   "source": [
    "3. View Dendrite segmentation."
   ]
  },
  {
   "cell_type": "code",
   "execution_count": null,
   "id": "42f3057a",
   "metadata": {},
   "outputs": [],
   "source": [
    "from notebook_widgets import dendrite_segmentation_view_widget\n",
    "\n",
    "display(dendrite_segmentation_view_widget(scaled_spine_dataset))"
   ]
  },
  {
   "cell_type": "markdown",
   "id": "512494fb",
   "metadata": {},
   "source": [
    "4. View Chords.\n",
    "\n",
    "Set `num_of_chords` and `num_of_bins`. Histograms can be exported to `dataset_path/chords_%num_of_chords%_chords_%num_of_bins%_bins.csv` file. Histograms are only exported for meshes that were viewed! Otherwise it would take too much time to calculate. Use `Calculate Metrics` cell to calculate metrics for the entire dataset."
   ]
  },
  {
   "cell_type": "code",
   "execution_count": null,
   "id": "f830681e",
   "metadata": {},
   "outputs": [],
   "source": [
    "from notebook_widgets import spine_chords_widget\n",
    "\n",
    "\n",
    "num_of_chords = 30000\n",
    "num_of_bins = 100\n",
    "\n",
    "display(spine_chords_widget(spine_dataset, scaled_spine_dataset, dataset_path, num_of_chords, num_of_bins))"
   ]
  },
  {
   "cell_type": "markdown",
   "id": "e5b0b00a",
   "metadata": {},
   "source": [
    "5. Calculate Metrics.\n",
    "\n",
    "Metrics for the dataset will be saved to `dataset_path/metrics.csv`. Chords histograms will be saved separately to `dataset_path/chords.csv`. "
   ]
  },
  {
   "cell_type": "code",
   "execution_count": null,
   "id": "ae686856",
   "metadata": {},
   "outputs": [],
   "source": [
    "from spine_metrics import SpineMetricDataset\n",
    "\n",
    "\n",
    "# chord method parameters\n",
    "num_of_chords = 30000\n",
    "num_of_bins = 100\n",
    "\n",
    "# calculate metrics\n",
    "metric_names = [\"ChordDistribution\", \"OpenAngle\", \"CVD\", \"AverageDistance\",\n",
    "                \"LengthVolumeRatio\", \"LengthAreaRatio\", \"JunctionArea\",\n",
    "                \"Length\", \"Area\", \"Volume\", \"ConvexHullVolume\", \"ConvexHullRatio\"]\n",
    "metric_params = [{\"num_of_chords\": num_of_chords, \"num_of_bins\": num_of_bins},\n",
    "                 {}, {}, {}, {}, {}, {}, {}, {}, {}, {}, {}]\n",
    "spine_metrics = SpineMetricDataset()\n",
    "spine_metrics.calculate_metrics(spine_dataset.spine_meshes, metric_names, metric_params)\n",
    "spine_metrics.save(f\"{dataset_path}/metrics.csv\")    \n",
    "\n",
    "spine_metrics.get_metrics_subset([\"ChordDistribution\"]).save_as_array(f\"{dataset_path}/chords.csv\")"
   ]
  },
  {
   "cell_type": "markdown",
   "id": "abf55e5d",
   "metadata": {},
   "source": [
    "6. View Spines in Dataset."
   ]
  },
  {
   "cell_type": "code",
   "execution_count": null,
   "id": "02530ab7",
   "metadata": {
    "scrolled": false
   },
   "outputs": [],
   "source": [
    "from spine_metrics import SpineMetricDataset\n",
    "from notebook_widgets import spine_dataset_view_widget\n",
    "\n",
    "\n",
    "metrics = SpineMetricDataset().load(f\"{dataset_path}/metrics.csv\")\n",
    "display(spine_dataset_view_widget(scaled_spine_dataset, metrics))"
   ]
  },
  {
   "cell_type": "markdown",
   "id": "66fcd77c",
   "metadata": {},
   "source": [
    "### Utilities for classifiaction and clustering"
   ]
  },
  {
   "cell_type": "markdown",
   "id": "36506b12",
   "metadata": {},
   "source": [
    "7. Merge Manual Classifications."
   ]
  },
  {
   "cell_type": "code",
   "execution_count": null,
   "id": "3b8f3ccd",
   "metadata": {},
   "outputs": [],
   "source": [
    "from spine_metrics import SpineMetricDataset\n",
    "from notebook_widgets import create_dir, remove_file\n",
    "from spine_fitter import SpineGrouping\n",
    "import pathlib\n",
    "\n",
    "dataset_path = \"example dataset\"\n",
    "merged_path = f\"{dataset_path}/manual_classification/manual_classification_merged.json\"\n",
    "merged_reduced_path = f\"{dataset_path}/manual_classification/manual_classification_merged_reduced.json\"\n",
    "\n",
    "# remove old merged classifications\n",
    "remove_file(merged_path)\n",
    "remove_file(merged_reduced_path)\n",
    "\n",
    "# load manual classifications\n",
    "path = pathlib.Path(f\"{dataset_path}/manual_classification\")\n",
    "classification_paths = [str(classification_path) for classification_path in path.glob(\"*.json\")]\n",
    "groupings = [SpineGrouping().load(path) for path in classification_paths]\n",
    "print(f\"Merging manual classifications: {classification_paths}\\n\")\n",
    "\n",
    "# merge classifications\n",
    "merged_grouping = SpineGrouping.merge(groupings, outliers_label=\"Unclassified\")\n",
    "merged_grouping.save(merged_path)\n",
    "print(f\"Saved to \\\"{merged_path}\\\".\")\n",
    "\n",
    "# remove spines with no consensus, filopodias and labeled-as-outliers\n",
    "contested = SpineGrouping.get_contested_samples(groupings)\n",
    "merged_grouping.remove_samples(contested)\n",
    "merged_grouping.remove_samples(merged_grouping.groups[\"Filopodia\"].copy())\n",
    "merged_grouping.remove_samples(merged_grouping.groups[\"Outlier\"].copy())\n",
    "del merged_grouping.groups[\"Filopodia\"]\n",
    "del merged_grouping.groups[\"Outlier\"]\n",
    "\n",
    "merged_grouping.save(merged_reduced_path)\n",
    "print(f\"Saved to \\\"{merged_reduced_path}\\\".\")"
   ]
  },
  {
   "cell_type": "markdown",
   "id": "1517767c",
   "metadata": {},
   "source": [
    "8. Consensus Table."
   ]
  },
  {
   "cell_type": "code",
   "execution_count": null,
   "id": "6d5a41e3",
   "metadata": {},
   "outputs": [],
   "source": [
    "from notebook_widgets import consensus_widget\n",
    "from spine_fitter import SpineGrouping\n",
    "import pathlib\n",
    "\n",
    "# load manual classifications\n",
    "path = pathlib.Path(f\"{dataset_path}/manual_classification\")\n",
    "classification_paths = path.glob(\"manual_classification_?.json\")\n",
    "groupings = [SpineGrouping().load(str(path)) for path in classification_paths]\n",
    "\n",
    "# show consensus table\n",
    "display(consensus_widget(groupings))"
   ]
  },
  {
   "cell_type": "markdown",
   "id": "f67761e2",
   "metadata": {},
   "source": [
    "9. Generate group labeling from dataset paths hierarchy."
   ]
  },
  {
   "cell_type": "code",
   "execution_count": null,
   "id": "31d06c02",
   "metadata": {},
   "outputs": [],
   "source": [
    "from pathlib import Path\n",
    "from collections import defaultdict\n",
    "import re\n",
    "\n",
    "from spine_fitter import SpineGrouping\n",
    "\n",
    "dataset_path = \" \"\n",
    "path_pattern = \"*/*/spine_*.off\"\n",
    "label_patern = \"(?P<c>.*)/.*/spine_.*.off\"\n",
    "output_subpath = \"labeling_by_dirs.json\"\n",
    "\n",
    "path = Path(dataset_path)\n",
    "labeling = defaultdict(set)\n",
    "\n",
    "for l in list(path.glob(path_pattern)):\n",
    "    m = re.match(f\"{dataset_path}/{label_patern}\", l.as_posix())\n",
    "    if m:\n",
    "        labeling[m.group('c')].add(str(l))\n",
    "\n",
    "result_grouping = SpineGrouping(groups=labeling)\n",
    "result_grouping.save(filename=f\"{dataset_path}/{output_subpath}\")"
   ]
  }
 ],
 "metadata": {
  "kernelspec": {
   "display_name": "Python 3 (ipykernel)",
   "language": "python",
   "name": "python3"
  },
  "language_info": {
   "codemirror_mode": {
    "name": "ipython",
    "version": 3
   },
   "file_extension": ".py",
   "mimetype": "text/x-python",
   "name": "python",
   "nbconvert_exporter": "python",
   "pygments_lexer": "ipython3",
   "version": "3.8.8"
  }
 },
 "nbformat": 4,
 "nbformat_minor": 5
}
